{
  "nbformat": 4,
  "nbformat_minor": 0,
  "metadata": {
    "colab": {
      "name": "ConnectAEP.ipynb",
      "provenance": [],
      "collapsed_sections": [],
      "authorship_tag": "ABX9TyN5YseICUpnoiOgXFOSmSTN",
      "include_colab_link": true
    },
    "kernelspec": {
      "name": "python3",
      "display_name": "Python 3"
    },
    "language_info": {
      "name": "python"
    }
  },
  "cells": [
    {
      "cell_type": "markdown",
      "metadata": {
        "id": "view-in-github",
        "colab_type": "text"
      },
      "source": [
        "<a href=\"https://colab.research.google.com/github/GennaroBlarasin/Testing/blob/master/ConnectAEP.ipynb\" target=\"_parent\"><img src=\"https://colab.research.google.com/assets/colab-badge.svg\" alt=\"Open In Colab\"/></a>"
      ]
    },
    {
      "cell_type": "code",
      "execution_count": 1,
      "metadata": {
        "colab": {
          "base_uri": "https://localhost:8080/"
        },
        "id": "MtnPkEQePPaK",
        "outputId": "799ff666-479e-4798-fb4b-e64ac298ebaa"
      },
      "outputs": [
        {
          "output_type": "stream",
          "name": "stderr",
          "text": [
            "/usr/local/lib/python3.7/dist-packages/psycopg2/__init__.py:144: UserWarning: The psycopg2 wheel package will be renamed from release 2.8; in order to keep installing from binary please use \"pip install psycopg2-binary\" instead. For details see: <http://initd.org/psycopg/docs/install.html#binary-install-from-pypi>.\n",
            "  \"\"\")\n"
          ]
        }
      ],
      "source": [
        "import pandas as pd\n",
        "import pandas.io.sql as sqlio\n",
        "import psycopg2\n",
        "import urllib\n",
        "import seaborn as sns\n",
        "import numpy as np\n",
        "import matplotlib.pyplot as plt\n",
        "from sklearn.cluster import KMeans\n",
        "from sklearn.metrics import classification_report,accuracy_score,confusion_matrix\n",
        "from sklearn.model_selection import train_test_split\n",
        "from sklearn.linear_model import LogisticRegression"
      ]
    },
    {
      "cell_type": "markdown",
      "source": [
        "Setting up database parameters\n",
        "\n",
        "Modify only the two first lines with your credentials"
      ],
      "metadata": {
        "id": "Ulyl_BU5Zbx9"
      }
    },
    {
      "cell_type": "code",
      "source": [
        "technicalAccountId = \"8EAF521762958FF50A495E8D\"         #Configure this with your own ID\n",
        "credential = \"Conexio1@125\"                             #Configure this with your own Credential\n",
        "\n",
        "dsn_hostname = 'spnam.platform-query.adobe.io'\n",
        "dsn_port = '80'\n",
        "dsn_database= 'conexio3:all'\n",
        "dsn_uid = '73D97EE25CCCE8260A495EBD@AdobeOrg'\n",
        "dsn_pwd = technicalAccountId + ':' + credential"
      ],
      "metadata": {
        "id": "0I8DOkbXQmyq"
      },
      "execution_count": 2,
      "outputs": []
    },
    {
      "cell_type": "code",
      "source": [
        "tablename_websdk = \"xdm_experienceevent_conexio_dataset\"\n",
        "tablename_hubspot = \"xdm_individual_profile_hubspot_conexio_dataset\""
      ],
      "metadata": {
        "id": "EJuHgU-3S4VY"
      },
      "execution_count": 5,
      "outputs": []
    },
    {
      "cell_type": "markdown",
      "source": [
        "Write your SQL Query to get your data into \"\"\" query \"\"\""
      ],
      "metadata": {
        "id": "8XHfK9-UZyZf"
      }
    },
    {
      "cell_type": "code",
      "source": [
        "sql = \"\"\"SELECT * FROM xdm_individual_profile_hubspot_conexio_dataset\"\"\""
      ],
      "metadata": {
        "id": "RpfbbQAGTsTE"
      },
      "execution_count": 6,
      "outputs": []
    },
    {
      "cell_type": "markdown",
      "source": [
        "It makes the connection. Original is a dataframe"
      ],
      "metadata": {
        "id": "K7o-Kf4EaFe1"
      }
    },
    {
      "cell_type": "code",
      "source": [
        "try:\n",
        "    conn_string = \"host=\"+dsn_hostname+\" port=\"+dsn_port+\" dbname=\"+dsn_database+\" user=\"+dsn_uid+\" password=\"+dsn_pwd\n",
        "    print(\"Connecting to database\\n  ->%s\" % (conn_string))\n",
        "    conn=psycopg2.connect(conn_string)\n",
        "    original = pd.read_sql_query(sql, conn)\n",
        "    conn = None\n",
        "    print(\"Connected!\\n\")\n",
        "except:\n",
        "    print(\"Unable to connect to the database.\")"
      ],
      "metadata": {
        "colab": {
          "base_uri": "https://localhost:8080/"
        },
        "id": "lvyzsMiaT5O1",
        "outputId": "b706e643-fcf3-42b6-c7e0-6328ded1f40b"
      },
      "execution_count": 7,
      "outputs": [
        {
          "output_type": "stream",
          "name": "stdout",
          "text": [
            "Connecting to database\n",
            "  ->host=spnam.platform-query.adobe.io port=80 dbname=conexio3:all user=73D97EE25CCCE8260A495EBD@AdobeOrg password=8EAF521762958FF50A495E8D:Conexio1@125\n",
            "Connected!\n",
            "\n"
          ]
        }
      ]
    },
    {
      "cell_type": "markdown",
      "source": [
        "It's a good practice make a copy in order to always have the original pull"
      ],
      "metadata": {
        "id": "EGZIVTTCaOuz"
      }
    },
    {
      "cell_type": "code",
      "source": [
        "data_frame = original.copy()"
      ],
      "metadata": {
        "id": "cJXE7Gs_T_yt"
      },
      "execution_count": 8,
      "outputs": []
    },
    {
      "cell_type": "markdown",
      "source": [
        "Let's visualize the data"
      ],
      "metadata": {
        "id": "frliHZuFaWBr"
      }
    },
    {
      "cell_type": "code",
      "source": [
        "data_frame"
      ],
      "metadata": {
        "colab": {
          "base_uri": "https://localhost:8080/",
          "height": 641
        },
        "id": "Nsu--X4IUHD1",
        "outputId": "42aba12c-6ba0-42ab-d2d5-13684ce6b4ec"
      },
      "execution_count": 9,
      "outputs": [
        {
          "output_type": "execute_result",
          "data": {
            "text/plain": [
              "                       homeAddress              mobilePhone  \\\n",
              "0                (Boise,NULL,NULL)  (NULL, +1 403-720-4500)   \n",
              "1                             None                     None   \n",
              "2               (Tustin,NULL,NULL)  (NULL, +1 877-300-8837)   \n",
              "3     (Huntington Beach,NULL,NULL)  (NULL, +1 877-300-8837)   \n",
              "4                (Boise,NULL,NULL)  (NULL, +1 403-720-4500)   \n",
              "...                            ...                      ...   \n",
              "2173                          None                     None   \n",
              "2174                          None                     None   \n",
              "2175   (El Dorado Hills,NULL,NULL)                     None   \n",
              "2176           (Chicago,NULL,NULL)     (NULL,3.127.319.628)   \n",
              "2177            (Ottawa,NULL,NULL)      (NULL,613 866 0732)   \n",
              "\n",
              "                                  person  \\\n",
              "0                     (\"(Ladonna,Hale)\")   \n",
              "1     (\"(David,\"Levy (Critical Mass)\")\")   \n",
              "2            (\"(Jaclyn,Cordova-Downey)\")   \n",
              "3                     (\"(Ian,Nicholls)\")   \n",
              "4                     (\"(Ladonna,Hale)\")   \n",
              "...                                  ...   \n",
              "2173                     (\"(Dave,Katz)\")   \n",
              "2174                 (\"(Lisa,Lockwood)\")   \n",
              "2175                   (\"(Dan,Martino)\")   \n",
              "2176                 (\"(Ali,Alkhafaji)\")   \n",
              "2177                    (\"(Jay,Proulx)\")   \n",
              "\n",
              "                                          personalEmail                  b2b  \\\n",
              "0     (ladonna.hale@lucernefoods.com,\"(lucernefoods....      (Lucerne Foods)   \n",
              "1         (dlevy@criticalmass.com,\"(criticalmass.com)\")                 None   \n",
              "2                  (jaclyn.cordova@tcl.com,\"(tcl.com)\")  (TCL Communication)   \n",
              "3                    (ian.nicholls@tcl.com,\"(tcl.com)\")  (TCL Communication)   \n",
              "4     (ladonna.hale@lucernefoods.com,\"(lucernefoods....      (Lucerne Foods)   \n",
              "...                                                 ...                  ...   \n",
              "2173          (dave.katz@annalect.com,\"(annalect.com)\")           (Annalect)   \n",
              "2174                (lockwoodl@yahoo.com,\"(yahoo.com)\")                 None   \n",
              "2175      (dan.martino@tadigital.com,\"(tadigital.com)\")         (TA Digital)   \n",
              "2176    (ali.alkhafaji@tadigital.com,\"(tadigital.com)\")         (TA Digital)   \n",
              "2177       (jay.proulx@tadigital.com,\"(tadigital.com)\")                 None   \n",
              "\n",
              "                      extendedWorkDetails  createdByBatchID  \n",
              "0                             (President)   22/4/2022 13:50  \n",
              "1                                    None   25/4/2022 08:58  \n",
              "2      (Director Of Marketing Operations)   22/4/2022 13:55  \n",
              "3                 (Director of Marketing)   22/4/2022 13:55  \n",
              "4                             (President)   22/4/2022 13:50  \n",
              "...                                   ...               ...  \n",
              "2173                                 None  19/11/2021 09:28  \n",
              "2174  (Head of Web and Digital Marketing)  18/11/2021 17:42  \n",
              "2175              (AEM Practice Director)  17/11/2021 18:30  \n",
              "2176                                (CTO)  17/11/2021 18:30  \n",
              "2177                    (Director, Adobe)  17/11/2021 18:29  \n",
              "\n",
              "[2178 rows x 7 columns]"
            ],
            "text/html": [
              "\n",
              "  <div id=\"df-1b1c523f-994c-4fbe-a05e-b47210a1ed30\">\n",
              "    <div class=\"colab-df-container\">\n",
              "      <div>\n",
              "<style scoped>\n",
              "    .dataframe tbody tr th:only-of-type {\n",
              "        vertical-align: middle;\n",
              "    }\n",
              "\n",
              "    .dataframe tbody tr th {\n",
              "        vertical-align: top;\n",
              "    }\n",
              "\n",
              "    .dataframe thead th {\n",
              "        text-align: right;\n",
              "    }\n",
              "</style>\n",
              "<table border=\"1\" class=\"dataframe\">\n",
              "  <thead>\n",
              "    <tr style=\"text-align: right;\">\n",
              "      <th></th>\n",
              "      <th>homeAddress</th>\n",
              "      <th>mobilePhone</th>\n",
              "      <th>person</th>\n",
              "      <th>personalEmail</th>\n",
              "      <th>b2b</th>\n",
              "      <th>extendedWorkDetails</th>\n",
              "      <th>createdByBatchID</th>\n",
              "    </tr>\n",
              "  </thead>\n",
              "  <tbody>\n",
              "    <tr>\n",
              "      <th>0</th>\n",
              "      <td>(Boise,NULL,NULL)</td>\n",
              "      <td>(NULL, +1 403-720-4500)</td>\n",
              "      <td>(\"(Ladonna,Hale)\")</td>\n",
              "      <td>(ladonna.hale@lucernefoods.com,\"(lucernefoods....</td>\n",
              "      <td>(Lucerne Foods)</td>\n",
              "      <td>(President)</td>\n",
              "      <td>22/4/2022 13:50</td>\n",
              "    </tr>\n",
              "    <tr>\n",
              "      <th>1</th>\n",
              "      <td>None</td>\n",
              "      <td>None</td>\n",
              "      <td>(\"(David,\"Levy (Critical Mass)\")\")</td>\n",
              "      <td>(dlevy@criticalmass.com,\"(criticalmass.com)\")</td>\n",
              "      <td>None</td>\n",
              "      <td>None</td>\n",
              "      <td>25/4/2022 08:58</td>\n",
              "    </tr>\n",
              "    <tr>\n",
              "      <th>2</th>\n",
              "      <td>(Tustin,NULL,NULL)</td>\n",
              "      <td>(NULL, +1 877-300-8837)</td>\n",
              "      <td>(\"(Jaclyn,Cordova-Downey)\")</td>\n",
              "      <td>(jaclyn.cordova@tcl.com,\"(tcl.com)\")</td>\n",
              "      <td>(TCL Communication)</td>\n",
              "      <td>(Director Of Marketing Operations)</td>\n",
              "      <td>22/4/2022 13:55</td>\n",
              "    </tr>\n",
              "    <tr>\n",
              "      <th>3</th>\n",
              "      <td>(Huntington Beach,NULL,NULL)</td>\n",
              "      <td>(NULL, +1 877-300-8837)</td>\n",
              "      <td>(\"(Ian,Nicholls)\")</td>\n",
              "      <td>(ian.nicholls@tcl.com,\"(tcl.com)\")</td>\n",
              "      <td>(TCL Communication)</td>\n",
              "      <td>(Director of Marketing)</td>\n",
              "      <td>22/4/2022 13:55</td>\n",
              "    </tr>\n",
              "    <tr>\n",
              "      <th>4</th>\n",
              "      <td>(Boise,NULL,NULL)</td>\n",
              "      <td>(NULL, +1 403-720-4500)</td>\n",
              "      <td>(\"(Ladonna,Hale)\")</td>\n",
              "      <td>(ladonna.hale@lucernefoods.com,\"(lucernefoods....</td>\n",
              "      <td>(Lucerne Foods)</td>\n",
              "      <td>(President)</td>\n",
              "      <td>22/4/2022 13:50</td>\n",
              "    </tr>\n",
              "    <tr>\n",
              "      <th>...</th>\n",
              "      <td>...</td>\n",
              "      <td>...</td>\n",
              "      <td>...</td>\n",
              "      <td>...</td>\n",
              "      <td>...</td>\n",
              "      <td>...</td>\n",
              "      <td>...</td>\n",
              "    </tr>\n",
              "    <tr>\n",
              "      <th>2173</th>\n",
              "      <td>None</td>\n",
              "      <td>None</td>\n",
              "      <td>(\"(Dave,Katz)\")</td>\n",
              "      <td>(dave.katz@annalect.com,\"(annalect.com)\")</td>\n",
              "      <td>(Annalect)</td>\n",
              "      <td>None</td>\n",
              "      <td>19/11/2021 09:28</td>\n",
              "    </tr>\n",
              "    <tr>\n",
              "      <th>2174</th>\n",
              "      <td>None</td>\n",
              "      <td>None</td>\n",
              "      <td>(\"(Lisa,Lockwood)\")</td>\n",
              "      <td>(lockwoodl@yahoo.com,\"(yahoo.com)\")</td>\n",
              "      <td>None</td>\n",
              "      <td>(Head of Web and Digital Marketing)</td>\n",
              "      <td>18/11/2021 17:42</td>\n",
              "    </tr>\n",
              "    <tr>\n",
              "      <th>2175</th>\n",
              "      <td>(El Dorado Hills,NULL,NULL)</td>\n",
              "      <td>None</td>\n",
              "      <td>(\"(Dan,Martino)\")</td>\n",
              "      <td>(dan.martino@tadigital.com,\"(tadigital.com)\")</td>\n",
              "      <td>(TA Digital)</td>\n",
              "      <td>(AEM Practice Director)</td>\n",
              "      <td>17/11/2021 18:30</td>\n",
              "    </tr>\n",
              "    <tr>\n",
              "      <th>2176</th>\n",
              "      <td>(Chicago,NULL,NULL)</td>\n",
              "      <td>(NULL,3.127.319.628)</td>\n",
              "      <td>(\"(Ali,Alkhafaji)\")</td>\n",
              "      <td>(ali.alkhafaji@tadigital.com,\"(tadigital.com)\")</td>\n",
              "      <td>(TA Digital)</td>\n",
              "      <td>(CTO)</td>\n",
              "      <td>17/11/2021 18:30</td>\n",
              "    </tr>\n",
              "    <tr>\n",
              "      <th>2177</th>\n",
              "      <td>(Ottawa,NULL,NULL)</td>\n",
              "      <td>(NULL,613 866 0732)</td>\n",
              "      <td>(\"(Jay,Proulx)\")</td>\n",
              "      <td>(jay.proulx@tadigital.com,\"(tadigital.com)\")</td>\n",
              "      <td>None</td>\n",
              "      <td>(Director, Adobe)</td>\n",
              "      <td>17/11/2021 18:29</td>\n",
              "    </tr>\n",
              "  </tbody>\n",
              "</table>\n",
              "<p>2178 rows × 7 columns</p>\n",
              "</div>\n",
              "      <button class=\"colab-df-convert\" onclick=\"convertToInteractive('df-1b1c523f-994c-4fbe-a05e-b47210a1ed30')\"\n",
              "              title=\"Convert this dataframe to an interactive table.\"\n",
              "              style=\"display:none;\">\n",
              "        \n",
              "  <svg xmlns=\"http://www.w3.org/2000/svg\" height=\"24px\"viewBox=\"0 0 24 24\"\n",
              "       width=\"24px\">\n",
              "    <path d=\"M0 0h24v24H0V0z\" fill=\"none\"/>\n",
              "    <path d=\"M18.56 5.44l.94 2.06.94-2.06 2.06-.94-2.06-.94-.94-2.06-.94 2.06-2.06.94zm-11 1L8.5 8.5l.94-2.06 2.06-.94-2.06-.94L8.5 2.5l-.94 2.06-2.06.94zm10 10l.94 2.06.94-2.06 2.06-.94-2.06-.94-.94-2.06-.94 2.06-2.06.94z\"/><path d=\"M17.41 7.96l-1.37-1.37c-.4-.4-.92-.59-1.43-.59-.52 0-1.04.2-1.43.59L10.3 9.45l-7.72 7.72c-.78.78-.78 2.05 0 2.83L4 21.41c.39.39.9.59 1.41.59.51 0 1.02-.2 1.41-.59l7.78-7.78 2.81-2.81c.8-.78.8-2.07 0-2.86zM5.41 20L4 18.59l7.72-7.72 1.47 1.35L5.41 20z\"/>\n",
              "  </svg>\n",
              "      </button>\n",
              "      \n",
              "  <style>\n",
              "    .colab-df-container {\n",
              "      display:flex;\n",
              "      flex-wrap:wrap;\n",
              "      gap: 12px;\n",
              "    }\n",
              "\n",
              "    .colab-df-convert {\n",
              "      background-color: #E8F0FE;\n",
              "      border: none;\n",
              "      border-radius: 50%;\n",
              "      cursor: pointer;\n",
              "      display: none;\n",
              "      fill: #1967D2;\n",
              "      height: 32px;\n",
              "      padding: 0 0 0 0;\n",
              "      width: 32px;\n",
              "    }\n",
              "\n",
              "    .colab-df-convert:hover {\n",
              "      background-color: #E2EBFA;\n",
              "      box-shadow: 0px 1px 2px rgba(60, 64, 67, 0.3), 0px 1px 3px 1px rgba(60, 64, 67, 0.15);\n",
              "      fill: #174EA6;\n",
              "    }\n",
              "\n",
              "    [theme=dark] .colab-df-convert {\n",
              "      background-color: #3B4455;\n",
              "      fill: #D2E3FC;\n",
              "    }\n",
              "\n",
              "    [theme=dark] .colab-df-convert:hover {\n",
              "      background-color: #434B5C;\n",
              "      box-shadow: 0px 1px 3px 1px rgba(0, 0, 0, 0.15);\n",
              "      filter: drop-shadow(0px 1px 2px rgba(0, 0, 0, 0.3));\n",
              "      fill: #FFFFFF;\n",
              "    }\n",
              "  </style>\n",
              "\n",
              "      <script>\n",
              "        const buttonEl =\n",
              "          document.querySelector('#df-1b1c523f-994c-4fbe-a05e-b47210a1ed30 button.colab-df-convert');\n",
              "        buttonEl.style.display =\n",
              "          google.colab.kernel.accessAllowed ? 'block' : 'none';\n",
              "\n",
              "        async function convertToInteractive(key) {\n",
              "          const element = document.querySelector('#df-1b1c523f-994c-4fbe-a05e-b47210a1ed30');\n",
              "          const dataTable =\n",
              "            await google.colab.kernel.invokeFunction('convertToInteractive',\n",
              "                                                     [key], {});\n",
              "          if (!dataTable) return;\n",
              "\n",
              "          const docLinkHtml = 'Like what you see? Visit the ' +\n",
              "            '<a target=\"_blank\" href=https://colab.research.google.com/notebooks/data_table.ipynb>data table notebook</a>'\n",
              "            + ' to learn more about interactive tables.';\n",
              "          element.innerHTML = '';\n",
              "          dataTable['output_type'] = 'display_data';\n",
              "          await google.colab.output.renderOutput(dataTable, element);\n",
              "          const docLink = document.createElement('div');\n",
              "          docLink.innerHTML = docLinkHtml;\n",
              "          element.appendChild(docLink);\n",
              "        }\n",
              "      </script>\n",
              "    </div>\n",
              "  </div>\n",
              "  "
            ]
          },
          "metadata": {},
          "execution_count": 9
        }
      ]
    }
  ]
}